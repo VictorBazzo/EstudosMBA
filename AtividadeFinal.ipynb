{
 "cells": [
  {
   "cell_type": "code",
   "execution_count": 2,
   "metadata": {},
   "outputs": [],
   "source": [
    "import pandas as pd\n",
    "import numpy as np\n",
    "import matplotlib.pyplot as plt"
   ]
  },
  {
   "cell_type": "markdown",
   "metadata": {},
   "source": [
    "Qual a idade média das pessoas no cadastro ?\n",
    "Quantos homens tem no cadastro ?\n",
    "Quantas mulheres tem no cadastro ?\n",
    "Qual a idade média dos homens e das mulheres ?\n",
    "Crie um gráfico de barras e mostre a distribuição de escolaridade no cadastro ?\n",
    "Mostre a Média Salarial do cadastro ?\n",
    "Quem tem o maior salário ?\n",
    "Tirando desempregado quem recebe menos ?\n",
    "Quantas pessoas gostam de caminhar no final de semana ?\n",
    "Crie um gráfico mostrando entre a relação de escolaridade e quem pratica esporte ?\n",
    "Crie um mapa de calor ?\n",
    "Mostre de forma gráfica a distribuição de estados do cadastro ?"
   ]
  },
  {
   "cell_type": "code",
   "execution_count": 11,
   "metadata": {},
   "outputs": [],
   "source": [
    "#lendo arquivo de cadastro\n",
    "df_cadastro = pd.read_csv('cadastro.csv')\n",
    "#Lendo arquivo de gasolina\n",
    "df_gasolina = pd.read_csv('preco_gasolina.csv')\n",
    "#Lendo arquivo de salarios\n",
    "df_salarios = pd.read_csv('salario_profissoes.csv')\n",
    "\n",
    "\n",
    "#Tratamento dos dados\n",
    "#df_cadastro.isnull().sum()\n",
    "df_cadastro['quantidade'] = 1\n",
    "df_cadastro['idade'] = 2020 - df_cadastro['ano_nascimento']"
   ]
  },
  {
   "cell_type": "code",
   "execution_count": 4,
   "metadata": {},
   "outputs": [
    {
     "name": "stdout",
     "output_type": "stream",
     "text": [
      "A media das idades é: 32.73\n"
     ]
    }
   ],
   "source": [
    "#Media das idades\n",
    "print(\"A media das idades é:\",round(df_cadastro['idade'].sum() / df_cadastro['quantidade'].sum(),2))"
   ]
  },
  {
   "cell_type": "code",
   "execution_count": 5,
   "metadata": {},
   "outputs": [
    {
     "data": {
      "text/plain": [
       "<matplotlib.axes._subplots.AxesSubplot at 0x1b586d66c40>"
      ]
     },
     "execution_count": 5,
     "metadata": {},
     "output_type": "execute_result"
    },
    {
     "data": {
      "image/png": "[encoded data removed]",
      "text/plain": [
       "<Figure size 432x288 with 1 Axes>"
      ]
     },
     "metadata": {
      "needs_background": "light"
     },
     "output_type": "display_data"
    }
   ],
   "source": [
    "#exibindo o numero de mulheres e homens \n",
    "df_cadastro[['sexo','quantidade']].groupby('sexo').sum().plot(kind=\"bar\")"
   ]
  },
  {
   "cell_type": "code",
   "execution_count": 6,
   "metadata": {},
   "outputs": [
    {
     "data": {
      "text/plain": [
       "sexo\n",
       "f    33.857143\n",
       "m    31.750000\n",
       "dtype: float64"
      ]
     },
     "execution_count": 6,
     "metadata": {},
     "output_type": "execute_result"
    }
   ],
   "source": [
    "#Media das idades\n",
    "#df_cadastro['idade'].sum() / df_cadastro['quantidade'].sum()\n",
    "df_media = df_cadastro[['sexo','idade','quantidade']].groupby('sexo').sum()\n",
    "df_media['idade'] / df_media['quantidade']"
   ]
  },
  {
   "cell_type": "code",
   "execution_count": 7,
   "metadata": {},
   "outputs": [
    {
     "data": {
      "text/plain": [
       "<matplotlib.axes._subplots.AxesSubplot at 0x1b586e47880>"
      ]
     },
     "execution_count": 7,
     "metadata": {},
     "output_type": "execute_result"
    },
    {
     "data": {
      "image/png": "[encoded data removed]",
      "text/plain": [
       "<Figure size 432x288 with 1 Axes>"
      ]
     },
     "metadata": {
      "needs_background": "light"
     },
     "output_type": "display_data"
    }
   ],
   "source": [
    "#Distribuição escolaridade\n",
    "df_cadastro[['escolaridade','quantidade']].groupby('escolaridade').sum().plot(kind=\"bar\")"
   ]
  },
  {
   "cell_type": "code",
   "execution_count": 12,
   "metadata": {},
   "outputs": [
    {
     "name": "stdout",
     "output_type": "stream",
     "text": [
      "A media dos salarios é: 4463.33\n"
     ]
    }
   ],
   "source": [
    "#Gera o data frame com merge\n",
    "df_cadastro_salarios = df_cadastro.merge(df_salarios, left_on='profissão', right_on='Profissões')\n",
    "#Inserindo o valor do salario atual para quem tem menos que 3 anos de experiencia\n",
    "df_cadastro_salarios[\"salario_atual\"] = df_cadastro_salarios[\"salario até 3 anos\"].loc[df_cadastro_salarios[\"experiencia profissional\"] <= 3]\n",
    "#Inserindo o valor do salario atual para quem tem mais que 3 anos de experiencia\n",
    "df_cadastro_salarios['salario_atual'] = df_cadastro_salarios['salario_atual'].fillna(df_cadastro_salarios[\"salaior +3 anos\"])\n",
    "\n",
    "#Media do salarios\n",
    "print(\"A media dos salarios é:\",round(df_cadastro_salarios['salario_atual'].sum() / df_cadastro['quantidade'].sum(),2))"
   ]
  },
  {
   "cell_type": "code",
   "execution_count": 28,
   "metadata": {},
   "outputs": [
    {
     "data": {
      "text/html": [
       "<div>\n",
       "<style scoped>\n",
       "    .dataframe tbody tr th:only-of-type {\n",
       "        vertical-align: middle;\n",
       "    }\n",
       "\n",
       "    .dataframe tbody tr th {\n",
       "        vertical-align: top;\n",
       "    }\n",
       "\n",
       "    .dataframe thead th {\n",
       "        text-align: right;\n",
       "    }\n",
       "</style>\n",
       "<table border=\"1\" class=\"dataframe\">\n",
       "  <thead>\n",
       "    <tr style=\"text-align: right;\">\n",
       "      <th></th>\n",
       "      <th>nome</th>\n",
       "      <th>sobrenome</th>\n",
       "      <th>ano_nascimento</th>\n",
       "      <th>sexo</th>\n",
       "      <th>cidade</th>\n",
       "      <th>profissão</th>\n",
       "      <th>experiencia profissional</th>\n",
       "      <th>estado_civil</th>\n",
       "      <th>filhos</th>\n",
       "      <th>lazer_final_de_semana</th>\n",
       "      <th>...</th>\n",
       "      <th>qual_esporte</th>\n",
       "      <th>quanta_vezes_na_semana_pratica_esporte</th>\n",
       "      <th>tem carro</th>\n",
       "      <th>escolaridade</th>\n",
       "      <th>quantidade</th>\n",
       "      <th>idade</th>\n",
       "      <th>Profissões</th>\n",
       "      <th>salario até 3 anos</th>\n",
       "      <th>salaior +3 anos</th>\n",
       "      <th>salario_atual</th>\n",
       "    </tr>\n",
       "  </thead>\n",
       "  <tbody>\n",
       "    <tr>\n",
       "      <th>9</th>\n",
       "      <td>Mirtes</td>\n",
       "      <td>NaN</td>\n",
       "      <td>1976</td>\n",
       "      <td>f</td>\n",
       "      <td>Vitoria</td>\n",
       "      <td>Médica</td>\n",
       "      <td>5</td>\n",
       "      <td>Casada</td>\n",
       "      <td>2</td>\n",
       "      <td>leitura e ficar com os filhos</td>\n",
       "      <td>...</td>\n",
       "      <td>crossfit</td>\n",
       "      <td>3.0</td>\n",
       "      <td>sim</td>\n",
       "      <td>Ensino Superior</td>\n",
       "      <td>1</td>\n",
       "      <td>44</td>\n",
       "      <td>Médica</td>\n",
       "      <td>12000</td>\n",
       "      <td>20000</td>\n",
       "      <td>20000.0</td>\n",
       "    </tr>\n",
       "  </tbody>\n",
       "</table>\n",
       "<p>1 rows × 21 columns</p>\n",
       "</div>"
      ],
      "text/plain": [
       "     nome sobrenome  ano_nascimento sexo   cidade profissão  \\\n",
       "9  Mirtes       NaN            1976    f  Vitoria    Médica   \n",
       "\n",
       "   experiencia profissional estado_civil  filhos  \\\n",
       "9                         5       Casada       2   \n",
       "\n",
       "           lazer_final_de_semana  ... qual_esporte  \\\n",
       "9  leitura e ficar com os filhos  ...     crossfit   \n",
       "\n",
       "  quanta_vezes_na_semana_pratica_esporte  tem carro     escolaridade  \\\n",
       "9                                    3.0        sim  Ensino Superior   \n",
       "\n",
       "  quantidade  idade  Profissões salario até 3 anos  salaior +3 anos  \\\n",
       "9          1     44      Médica              12000            20000   \n",
       "\n",
       "   salario_atual  \n",
       "9        20000.0  \n",
       "\n",
       "[1 rows x 21 columns]"
      ]
     },
     "execution_count": 28,
     "metadata": {},
     "output_type": "execute_result"
    }
   ],
   "source": [
    "#Maior salario\n",
    "max_salario = max(df_cadastro_salarios[\"salario_atual\"])\n",
    "df_cadastro_salarios.loc[df_cadastro_salarios[\"salario_atual\"] == max_salario]"
   ]
  },
  {
   "cell_type": "code",
   "execution_count": 35,
   "metadata": {},
   "outputs": [
    {
     "data": {
      "text/html": [
       "<div>\n",
       "<style scoped>\n",
       "    .dataframe tbody tr th:only-of-type {\n",
       "        vertical-align: middle;\n",
       "    }\n",
       "\n",
       "    .dataframe tbody tr th {\n",
       "        vertical-align: top;\n",
       "    }\n",
       "\n",
       "    .dataframe thead th {\n",
       "        text-align: right;\n",
       "    }\n",
       "</style>\n",
       "<table border=\"1\" class=\"dataframe\">\n",
       "  <thead>\n",
       "    <tr style=\"text-align: right;\">\n",
       "      <th></th>\n",
       "      <th>nome</th>\n",
       "      <th>sobrenome</th>\n",
       "      <th>ano_nascimento</th>\n",
       "      <th>sexo</th>\n",
       "      <th>cidade</th>\n",
       "      <th>profissão</th>\n",
       "      <th>experiencia profissional</th>\n",
       "      <th>estado_civil</th>\n",
       "      <th>filhos</th>\n",
       "      <th>lazer_final_de_semana</th>\n",
       "      <th>...</th>\n",
       "      <th>qual_esporte</th>\n",
       "      <th>quanta_vezes_na_semana_pratica_esporte</th>\n",
       "      <th>tem carro</th>\n",
       "      <th>escolaridade</th>\n",
       "      <th>quantidade</th>\n",
       "      <th>idade</th>\n",
       "      <th>Profissões</th>\n",
       "      <th>salario até 3 anos</th>\n",
       "      <th>salaior +3 anos</th>\n",
       "      <th>salario_atual</th>\n",
       "    </tr>\n",
       "  </thead>\n",
       "  <tbody>\n",
       "    <tr>\n",
       "      <th>1</th>\n",
       "      <td>Maria</td>\n",
       "      <td>Silva</td>\n",
       "      <td>1970</td>\n",
       "      <td>f</td>\n",
       "      <td>Santos</td>\n",
       "      <td>dona de casa</td>\n",
       "      <td>2</td>\n",
       "      <td>Casada</td>\n",
       "      <td>3</td>\n",
       "      <td>ver tv</td>\n",
       "      <td>...</td>\n",
       "      <td>-</td>\n",
       "      <td>0.0</td>\n",
       "      <td>não</td>\n",
       "      <td>Ensino Médio</td>\n",
       "      <td>1</td>\n",
       "      <td>50</td>\n",
       "      <td>dona de casa</td>\n",
       "      <td>1200</td>\n",
       "      <td>1200</td>\n",
       "      <td>1200.0</td>\n",
       "    </tr>\n",
       "    <tr>\n",
       "      <th>6</th>\n",
       "      <td>Vilma</td>\n",
       "      <td>Narsiza</td>\n",
       "      <td>1995</td>\n",
       "      <td>f</td>\n",
       "      <td>Minas Gerais</td>\n",
       "      <td>caixa de mercado</td>\n",
       "      <td>4</td>\n",
       "      <td>Solteira</td>\n",
       "      <td>4</td>\n",
       "      <td>barzinho com os amigos</td>\n",
       "      <td>...</td>\n",
       "      <td>crossfit</td>\n",
       "      <td>3.0</td>\n",
       "      <td>não</td>\n",
       "      <td>Ensino Médio</td>\n",
       "      <td>1</td>\n",
       "      <td>25</td>\n",
       "      <td>caixa de mercado</td>\n",
       "      <td>900</td>\n",
       "      <td>1200</td>\n",
       "      <td>1200.0</td>\n",
       "    </tr>\n",
       "  </tbody>\n",
       "</table>\n",
       "<p>2 rows × 21 columns</p>\n",
       "</div>"
      ],
      "text/plain": [
       "    nome sobrenome  ano_nascimento sexo        cidade         profissão  \\\n",
       "1  Maria     Silva            1970    f        Santos      dona de casa   \n",
       "6  Vilma   Narsiza            1995    f  Minas Gerais  caixa de mercado   \n",
       "\n",
       "   experiencia profissional estado_civil  filhos   lazer_final_de_semana  ...  \\\n",
       "1                         2       Casada       3                  ver tv  ...   \n",
       "6                         4     Solteira       4  barzinho com os amigos  ...   \n",
       "\n",
       "  qual_esporte quanta_vezes_na_semana_pratica_esporte  tem carro  \\\n",
       "1            -                                    0.0        não   \n",
       "6     crossfit                                    3.0        não   \n",
       "\n",
       "   escolaridade quantidade  idade        Profissões salario até 3 anos  \\\n",
       "1  Ensino Médio          1     50      dona de casa               1200   \n",
       "6  Ensino Médio          1     25  caixa de mercado                900   \n",
       "\n",
       "   salaior +3 anos  salario_atual  \n",
       "1             1200         1200.0  \n",
       "6             1200         1200.0  \n",
       "\n",
       "[2 rows x 21 columns]"
      ]
     },
     "execution_count": 35,
     "metadata": {},
     "output_type": "execute_result"
    }
   ],
   "source": [
    "#Menor salario\n",
    "min_salario = min(df_cadastro_salarios[\"salario_atual\"].loc[df_cadastro_salarios[\"salario_atual\"] > 0])\n",
    "df_cadastro_salarios.loc[df_cadastro_salarios[\"salario_atual\"] == min_salario]"
   ]
  },
  {
   "cell_type": "code",
   "execution_count": 39,
   "metadata": {},
   "outputs": [
    {
     "data": {
      "text/html": [
       "<div>\n",
       "<style scoped>\n",
       "    .dataframe tbody tr th:only-of-type {\n",
       "        vertical-align: middle;\n",
       "    }\n",
       "\n",
       "    .dataframe tbody tr th {\n",
       "        vertical-align: top;\n",
       "    }\n",
       "\n",
       "    .dataframe thead th {\n",
       "        text-align: right;\n",
       "    }\n",
       "</style>\n",
       "<table border=\"1\" class=\"dataframe\">\n",
       "  <thead>\n",
       "    <tr style=\"text-align: right;\">\n",
       "      <th></th>\n",
       "      <th>nome</th>\n",
       "      <th>sobrenome</th>\n",
       "      <th>ano_nascimento</th>\n",
       "      <th>sexo</th>\n",
       "      <th>cidade</th>\n",
       "      <th>profissão</th>\n",
       "      <th>experiencia profissional</th>\n",
       "      <th>estado_civil</th>\n",
       "      <th>filhos</th>\n",
       "      <th>lazer_final_de_semana</th>\n",
       "      <th>...</th>\n",
       "      <th>qual_esporte</th>\n",
       "      <th>quanta_vezes_na_semana_pratica_esporte</th>\n",
       "      <th>tem carro</th>\n",
       "      <th>escolaridade</th>\n",
       "      <th>quantidade</th>\n",
       "      <th>idade</th>\n",
       "      <th>Profissões</th>\n",
       "      <th>salario até 3 anos</th>\n",
       "      <th>salaior +3 anos</th>\n",
       "      <th>salario_atual</th>\n",
       "    </tr>\n",
       "  </thead>\n",
       "  <tbody>\n",
       "    <tr>\n",
       "      <th>5</th>\n",
       "      <td>Marta</td>\n",
       "      <td>da Silva</td>\n",
       "      <td>1983</td>\n",
       "      <td>f</td>\n",
       "      <td>São Caetano</td>\n",
       "      <td>Auxiliar de Enfermagem</td>\n",
       "      <td>2</td>\n",
       "      <td>Solteira</td>\n",
       "      <td>0</td>\n",
       "      <td>caminhar</td>\n",
       "      <td>...</td>\n",
       "      <td>crossfit</td>\n",
       "      <td>4.0</td>\n",
       "      <td>não</td>\n",
       "      <td>Ensimo Tecnico</td>\n",
       "      <td>1</td>\n",
       "      <td>37</td>\n",
       "      <td>Auxiliar de Enfermagem</td>\n",
       "      <td>1500</td>\n",
       "      <td>4000</td>\n",
       "      <td>1500.0</td>\n",
       "    </tr>\n",
       "  </tbody>\n",
       "</table>\n",
       "<p>1 rows × 21 columns</p>\n",
       "</div>"
      ],
      "text/plain": [
       "    nome sobrenome  ano_nascimento sexo       cidade               profissão  \\\n",
       "5  Marta  da Silva            1983    f  São Caetano  Auxiliar de Enfermagem   \n",
       "\n",
       "   experiencia profissional estado_civil  filhos lazer_final_de_semana  ...  \\\n",
       "5                         2     Solteira       0              caminhar  ...   \n",
       "\n",
       "  qual_esporte quanta_vezes_na_semana_pratica_esporte  tem carro  \\\n",
       "5     crossfit                                    4.0        não   \n",
       "\n",
       "     escolaridade quantidade  idade              Profissões  \\\n",
       "5  Ensimo Tecnico          1     37  Auxiliar de Enfermagem   \n",
       "\n",
       "  salario até 3 anos  salaior +3 anos  salario_atual  \n",
       "5               1500             4000         1500.0  \n",
       "\n",
       "[1 rows x 21 columns]"
      ]
     },
     "execution_count": 39,
     "metadata": {},
     "output_type": "execute_result"
    }
   ],
   "source": [
    "df_cadastro_salarios.loc[df_cadastro_salarios[\"lazer_final_de_semana\"] == \"caminhar\"]"
   ]
  }
 ],
 "metadata": {
  "kernelspec": {
   "display_name": "Python 3",
   "language": "python",
   "name": "python3"
  },
  "language_info": {
   "codemirror_mode": {
    "name": "ipython",
    "version": 3
   },
   "file_extension": ".py",
   "mimetype": "text/x-python",
   "name": "python",
   "nbconvert_exporter": "python",
   "pygments_lexer": "ipython3",
   "version": "3.8.3"
  }
 },
 "nbformat": 4,
 "nbformat_minor": 4
}
