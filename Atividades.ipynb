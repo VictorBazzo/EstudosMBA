{
 "cells": [
  {
   "cell_type": "markdown",
   "metadata": {},
   "source": [
    "1 - Fazer todas as operações matemáticas e imprimir em tela"
   ]
  },
  {
   "cell_type": "code",
   "execution_count": 33,
   "metadata": {},
   "outputs": [
    {
     "name": "stdout",
     "output_type": "stream",
     "text": [
      "Resultado soma:  200.0 \n",
      " Resultado soma:  100.0 \n",
      " Resultado soma:  3.0 \n",
      " Resultado soma:  7500.0 \n",
      "\n"
     ]
    }
   ],
   "source": [
    "val1 = 150.00\n",
    "val2 = 50.00\n",
    "\n",
    "soma = val1 + val2\n",
    "subtracao = val1 - val2\n",
    "divisao = val1 / val2\n",
    "multiplicacao = val1 * val2\n",
    "\n",
    "print (\n",
    "    'Resultado soma: ', soma , '\\n',\n",
    "    'Resultado subtração: ', subtracao, '\\n',\n",
    "    'Resultado divisão: ', divisao, '\\n',\n",
    "    'Resultado multiplicação: ', multiplicacao, '\\n' \n",
    ")"
   ]
  },
  {
   "cell_type": "markdown",
   "metadata": {},
   "source": [
    "Fazer a calculadora com todas as operações e uma unica instrucao"
   ]
  },
  {
   "cell_type": "code",
   "execution_count": 34,
   "metadata": {},
   "outputs": [
    {
     "name": "stdout",
     "output_type": "stream",
     "text": [
      "O valor da  divisao é:  5.0\n"
     ]
    }
   ],
   "source": [
    "valor1 = 50\n",
    "valor2 = 10\n",
    "resultado = ''\n",
    "\n",
    "instrucao = 'divisao'\n",
    "\n",
    "if(instrucao == 'soma'):\n",
    "    resultado = valor1 + valor2\n",
    "elif(instrucao == 'subtracao'):\n",
    "    resultado = valor1 - valor2\n",
    "elif(instrucao == 'multiplicacao'):\n",
    "    resultado = valor1 * valor2\n",
    "elif(instrucao == 'divisao'):\n",
    "    if(valor1 == 0 or valor2 == 0):\n",
    "       print('Impossível divisao por 0.')\n",
    "    else:\n",
    "       resultado = valor1 / valor2\n",
    "if (resultado != ''):    \n",
    "    print ('O valor da ', instrucao, 'é: ', resultado)"
   ]
  },
  {
   "cell_type": "markdown",
   "metadata": {},
   "source": [
    "<b>Exercicio 1.</b> Hummm interessante, agora que vimos nossa primeira estrutura de dados, vamos fazer um exercicio bem legal.\n",
    "Voce tem uma tupla chamada feira.\n",
    "A feira contém: banana, pera, batata, uva, cebola, alho e açucar.\n",
    "\n",
    "Teu chefe te mandou a feira, e pediu para voce contrar esses produtos, um deles não da para comprar lá remova ele da lista. No caminho ele te ligou mandou voce também comprar maça e cenoura.\n",
    "\n",
    "Ele é mega chato, e mandou voce separar em duas sacolas, o que é fruta e o que é legume e entregar tudo ordenado.\n",
    "\n",
    "<b>feira = \"banana\", \"pera\", \"batata\", \"uva\", \"cebola\", \"alho\", \"açucar\"\"</b>"
   ]
  },
  {
   "cell_type": "code",
   "execution_count": 74,
   "metadata": {},
   "outputs": [
    {
     "name": "stdout",
     "output_type": "stream",
     "text": [
      "Frutas:  ['banana', 'maçã', 'pera', 'uva'] \n",
      "Verduras: ['alho', 'batata', 'cebola', 'cenoura']\n"
     ]
    }
   ],
   "source": [
    "feira = [\"banana\", \"pera\", \"batata\", \"uva\", \"cebola\", \"alho\", \"açucar\"]\n",
    "sacola = feira\n",
    "fruta = []\n",
    "legume = []\n",
    "\n",
    "sacola.remove(\"açucar\")\n",
    "sacola.append(\"maçã\")\n",
    "sacola.append(\"cenoura\")\n",
    "\n",
    "#fruta = sacola\n",
    "#legume = sacola\n",
    "\n",
    "for i in sacola:\n",
    "    fruta.append(i)\n",
    "    legume.append(i)\n",
    "\n",
    "fruta.remove(\"cebola\")\n",
    "fruta.remove(\"batata\")\n",
    "fruta.remove(\"alho\")\n",
    "fruta.remove(\"cenoura\")\n",
    "\n",
    "legume.remove(\"maçã\")\n",
    "legume.remove(\"banana\")\n",
    "legume.remove(\"pera\")\n",
    "legume.remove(\"uva\")\n",
    "\n",
    "fruta.sort()\n",
    "legume.sort()\n",
    "\n",
    "print(\"Frutas: \", fruta, \"\\nVerduras:\",legume)"
   ]
  },
  {
   "cell_type": "markdown",
   "metadata": {},
   "source": [
    "Exercicio2. Lista: (4,5,3,4,56,3,2,31,1,7,8,9,0,234,7,8,9). Orde a lista mostre os valores repitidos."
   ]
  },
  {
   "cell_type": "code",
   "execution_count": 73,
   "metadata": {},
   "outputs": [
    {
     "name": "stdout",
     "output_type": "stream",
     "text": [
      "Lista Ordenada: [0, 1, 2, 3, 3, 4, 4, 5, 7, 7, 8, 8, 9, 9, 31, 56, 234] \n",
      "Numeros Repetidos:  [3, 4, 7, 8, 9]\n"
     ]
    }
   ],
   "source": [
    "num = [4,5,3,4,56,3,2,31,1,7,8,9,0,234,7,8,9]\n",
    "num.sort()\n",
    "num_repetidos = []\n",
    "aux = 0\n",
    "\n",
    "for i in num:\n",
    "    if (i >0 and i == aux):\n",
    "        num_repetidos.append(i)\n",
    "    aux = i\n",
    "        \n",
    "print(\"Lista Ordenada:\",num, \"\\nNumeros Repetidos: \",num_repetidos)"
   ]
  },
  {
   "cell_type": "markdown",
   "metadata": {},
   "source": [
    "Calculadora com Class"
   ]
  },
  {
   "cell_type": "code",
   "execution_count": null,
   "metadata": {},
   "outputs": [],
   "source": []
  },
  {
   "cell_type": "code",
   "execution_count": 76,
   "metadata": {},
   "outputs": [
    {
     "data": {
      "text/plain": [
       "1.981818181818182"
      ]
     },
     "execution_count": 76,
     "metadata": {},
     "output_type": "execute_result"
    }
   ],
   "source": [
    "class Calculadora:\n",
    "    def soma(self, valor1, valor2):\n",
    "        result = valor1 + valor2\n",
    "        return result\n",
    "    \n",
    "    def subtracao(self, valor1, valor2):\n",
    "        result = valor1 - valor2\n",
    "        return result\n",
    "    \n",
    "    def divisao(self, valor1, valor2):\n",
    "        if(valor1 == 0 or valor2 == 0):\n",
    "            print('Impossível divisao por 0')\n",
    "        else:\n",
    "            result = valor1 / valor2\n",
    "            return result\n",
    "    \n",
    "    def multiplicacao(self, valor1, valor2):\n",
    "        result = valor1 * valor2    \n",
    "        return result\n",
    "    \n",
    "calc = Calculadora()\n",
    "\n",
    "num1 = calc.soma(198,20)\n",
    "num2 = calc.soma(50,60)\n",
    "\n",
    "calc.divisao(num1,num2)"
   ]
  },
  {
   "cell_type": "markdown",
   "metadata": {},
   "source": [
    "4. Nesta etapa quero que vc crie um novo dataframe, uma variavel, ela só poderá ter pessoas do sexo masculino e que tenham mais que 35 anos de idade."
   ]
  },
  {
   "cell_type": "code",
   "execution_count": null,
   "metadata": {},
   "outputs": [],
   "source": [
    "novo_titanic_df = titanic_df.loc[(titanic_df.Sex == 'male') & (titanic_df.Age > 35)]"
   ]
  },
  {
   "cell_type": "markdown",
   "metadata": {},
   "source": [
    "Crie um novo dataframe, porém somente com as colunas: Survived, Pclass, Sex, Age, Ticket, Embarked"
   ]
  },
  {
   "cell_type": "code",
   "execution_count": null,
   "metadata": {},
   "outputs": [],
   "source": [
    "titanic_df_novo_aula = titanic_df[['Survived', 'Pclass', 'Sex', 'idade', 'Ticket', 'Embarked']]"
   ]
  },
  {
   "cell_type": "markdown",
   "metadata": {},
   "source": [
    "Faça um groupby, e retorne somente as idades. Quero que forme faixas."
   ]
  },
  {
   "cell_type": "code",
   "execution_count": null,
   "metadata": {},
   "outputs": [],
   "source": [
    "titanic_df[['idade', 'Contador']].groupby(\"idade\").sum()"
   ]
  },
  {
   "cell_type": "markdown",
   "metadata": {},
   "source": [
    "Existe um poco de uma determinada profundidade. \n",
    "A minhoca consegue subir uma metragem durante o dia, porem a noite, desce 1 metro.\n",
    "Calcular quantos dias ela demora para subir o poco inteiro"
   ]
  },
  {
   "cell_type": "code",
   "execution_count": 75,
   "metadata": {},
   "outputs": [
    {
     "data": {
      "text/plain": [
       "10"
      ]
     },
     "execution_count": 75,
     "metadata": {},
     "output_type": "execute_result"
    }
   ],
   "source": [
    "class Poco:\n",
    "    profundidade = 0\n",
    "    estado = 0\n",
    "    dias = 0\n",
    "    metros_subida = 0\n",
    "    \n",
    "    def __init__(self, profundidade, metros_subida):\n",
    "        self.profundidade = profundidade\n",
    "        self.metros_subida = metros_subida\n",
    "        \n",
    "    def sobe(self):\n",
    "        self.estado = self.estado + self.metros_subida\n",
    "        self.dias = self.dias + 1\n",
    "    \n",
    "    def desce(self):\n",
    "        self.estado = self.estado -1\n",
    "        \n",
    "    def fundoDoPoco(self):\n",
    "        while (self.estado < self.profundidade):\n",
    "            self.sobe()\n",
    "            self.desce()\n",
    "\n",
    "#Cria um objeto Poco passando a profundidade e quantos metros sobe ao dia para iniciar\n",
    "minhoca = Poco(10,2)\n",
    "#Metodo para calcular quantos dias necessita para subir \n",
    "minhoca.fundoDoPoco()\n",
    "#Apresenta o valor de dias necessarios\n",
    "minhoca.dias"
   ]
  }
 ],
 "metadata": {
  "kernelspec": {
   "display_name": "Python 3",
   "language": "python",
   "name": "python3"
  },
  "language_info": {
   "codemirror_mode": {
    "name": "ipython",
    "version": 3
   },
   "file_extension": ".py",
   "mimetype": "text/x-python",
   "name": "python",
   "nbconvert_exporter": "python",
   "pygments_lexer": "ipython3",
   "version": "3.8.3"
  }
 },
 "nbformat": 4,
 "nbformat_minor": 4
}
