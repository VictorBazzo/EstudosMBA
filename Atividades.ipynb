{
 "cells": [
  {
   "cell_type": "markdown",
   "metadata": {},
   "source": [
    "1 - Fazer todas as operações matemáticas e imprimir em tela"
   ]
  },
  {
   "cell_type": "code",
   "execution_count": 33,
   "metadata": {},
   "outputs": [
    {
     "name": "stdout",
     "output_type": "stream",
     "text": [
      "Resultado soma:  200.0 \n",
      " Resultado soma:  100.0 \n",
      " Resultado soma:  3.0 \n",
      " Resultado soma:  7500.0 \n",
      "\n"
     ]
    }
   ],
   "source": [
    "val1 = 150.00\n",
    "val2 = 50.00\n",
    "\n",
    "soma = val1 + val2\n",
    "subtracao = val1 - val2\n",
    "divisao = val1 / val2\n",
    "multiplicacao = val1 * val2\n",
    "\n",
    "print (\n",
    "    'Resultado soma: ', soma , '\\n',\n",
    "    'Resultado subtração: ', subtracao, '\\n',\n",
    "    'Resultado divisão: ', divisao, '\\n',\n",
    "    'Resultado multiplicação: ', multiplicacao, '\\n' \n",
    ")"
   ]
  },
  {
   "cell_type": "markdown",
   "metadata": {},
   "source": [
    "Fazer a calculadora com todas as operações e uma unica instrucao"
   ]
  },
  {
   "cell_type": "code",
   "execution_count": 34,
   "metadata": {},
   "outputs": [
    {
     "name": "stdout",
     "output_type": "stream",
     "text": [
      "O valor da  divisao é:  5.0\n"
     ]
    }
   ],
   "source": [
    "valor1 = 50\n",
    "valor2 = 10\n",
    "resultado = ''\n",
    "\n",
    "instrucao = 'divisao'\n",
    "\n",
    "if(instrucao == 'soma'):\n",
    "    resultado = valor1 + valor2\n",
    "elif(instrucao == 'subtracao'):\n",
    "    resultado = valor1 - valor2\n",
    "elif(instrucao == 'multiplicacao'):\n",
    "    resultado = valor1 * valor2\n",
    "elif(instrucao == 'divisao'):\n",
    "    if(valor1 == 0 or valor2 == 0):\n",
    "       print('Impossível divisao por 0.')\n",
    "    else:\n",
    "       resultado = valor1 / valor2\n",
    "if (resultado != ''):    \n",
    "    print ('O valor da ', instrucao, 'é: ', resultado)"
   ]
  }
 ],
 "metadata": {
  "kernelspec": {
   "display_name": "Python 3",
   "language": "python",
   "name": "python3"
  },
  "language_info": {
   "codemirror_mode": {
    "name": "ipython",
    "version": 3
   },
   "file_extension": ".py",
   "mimetype": "text/x-python",
   "name": "python",
   "nbconvert_exporter": "python",
   "pygments_lexer": "ipython3",
   "version": "3.8.3"
  }
 },
 "nbformat": 4,
 "nbformat_minor": 4
}
