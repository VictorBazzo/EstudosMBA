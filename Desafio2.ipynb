#bibliotca para formatar data.
import datetime

#
from collections import Counter

#
import collections

#
import pandas as pd

#
import matplotlib
import matplotlib.pyplot as plt
import seaborn as sns

ref_arquivo = open("C:/Users/victo/Documents/Projetos/Aula01Python/ConversaWhats.txt","r", encoding = 'utf-8')
linha = ref_arquivo.readline()

list_datas = []
list_erros_formatacao = []
list_pessoas = []
list_msgs = []
list_dia_semana = []
list_horas = []

#lendo arquivo e inserindo nos vetores
while linha:
    linha = ref_arquivo.readline()
    try:
        date_time_obj = datetime.datetime.strptime(linha[1:16], '%d/%m/%Y %H:%M')
        msg = linha[17:]
        if(len(msg.split(':')) >= 2):
            list_datas.append(date_time_obj)
            list_pessoas.append(msg.split(':')[0])
            list_msgs.append(msg.split(':')[1])
    except ValueError:
        list_erros_formatacao.append('Errors de formatação de data')
ref_arquivo.close()

#Tratamento das datas
for data in list_datas:
    list_horas.append(data.time().hour)
    
    if(data.weekday() == 1):
        list_dia_semana.append('segunda')
    elif(data.weekday() == 2):
        list_dia_semana.append('terca')
    elif(data.weekday() == 3):
        list_dia_semana.append('quarta')
    elif(data.weekday() == 4):
        list_dia_semana.append('quinta')
    elif(data.weekday() == 5):
        list_dia_semana.append('sexta')
    elif(data.weekday() == 6):
        list_dia_semana.append('sabado')
    elif(data.weekday() == 0):
        list_dia_semana.append('domingo')

#Transformando os vetores em DataFrame
data = {
'Datas': list_datas,
'DiasSemana': list_dia_semana,
'Hora': list_horas,
'Pessoas': list_pessoas,
'Mensagens': list_msgs
}
wpp_df = pd.DataFrame(data, columns=['Datas','Pessoas','DiasSemana','Hora','Mensagens'])

#Fazendo um DataFrame exclusivo só com conversas de uma semana
wwp_sem_df = wpp_df.loc[(wpp_df.Datas >= '2020-05-03') & (wpp_df.Datas < '2020-05-10')]

#Agrupando os dias da semana para verificar qual o dia mais falado
wwp_sem_df[['DiasSemana','Mensagens']].groupby("DiasSemana").count()

#Agrupando as horas para verificar qual horario possui mais mensagens
wwp_sem_df[['Hora','Mensagens']].groupby("Hora").count()

#Os dias da semana que mais possuem mensagens são quarta e sexta, pois são os proximos dias de quando tem as aulas. Portanto o aluno pode ter mais duvidas.
#E o hororario com mais indice de mensagens é as 23, horario que acaba as aulas.
